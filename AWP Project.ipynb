{
 "cells": [
  {
   "cell_type": "code",
   "execution_count": 3,
   "id": "ec54d4ba-fa1b-430d-8afe-dc0d27d8e26c",
   "metadata": {},
   "outputs": [
    {
     "name": "stdin",
     "output_type": "stream",
     "text": [
      "Enter Indian city name (e.g., Mumbai, Delhi):  Mumbai\n"
     ]
    },
    {
     "name": "stdout",
     "output_type": "stream",
     "text": [
      "\n",
      "Weather data saved to Mumbai_weather_log.csv\n",
      "  City                              Location Temperature Condition Humidity            DateTime\n",
      "Mumbai Weather in Mumbai, Maharashtra, India       28 °C Overcast.      N/A 2025-06-19 16:47:35\n"
     ]
    },
    {
     "data": {
      "text/plain": [
       "'./Mumbai_weather_log.csv'"
      ]
     },
     "execution_count": 3,
     "metadata": {},
     "output_type": "execute_result"
    }
   ],
   "source": [
    "import requests\n",
    "from bs4 import BeautifulSoup\n",
    "import pandas as pd\n",
    "from datetime import datetime\n",
    "\n",
    "def get_weather(city):\n",
    "    city = city.lower().replace(\" \", \"-\")\n",
    "    url = f\"https://www.timeanddate.com/weather/india/{city}\"\n",
    "    \n",
    "    response = requests.get(url)\n",
    "    \n",
    "    if response.status_code != 200:\n",
    "        print(f\"Failed to retrieve data for {city}. Please check the city name.\")\n",
    "        return None\n",
    "\n",
    "    soup = BeautifulSoup(response.content, \"html.parser\")\n",
    "\n",
    "    try:\n",
    "        location = soup.find(\"h1\").text.strip()\n",
    "        temperature = soup.find(\"div\", class_=\"h2\").text.strip()\n",
    "        weather_desc = soup.find(\"p\").text.strip()\n",
    "        \n",
    "        humidity = \"N/A\"\n",
    "        for row in soup.find_all(\"tr\"):\n",
    "            if \"Humidity\" in row.text:\n",
    "                td_elements = row.find_all(\"td\")\n",
    "                if len(td_elements) > 1:\n",
    "                    humidity = td_elements[1].text.strip()\n",
    "                break\n",
    "\n",
    "        # Prepare data dictionary\n",
    "        data = {\n",
    "            \"City\": city.title(),\n",
    "            \"Location\": location,\n",
    "            \"Temperature\": temperature,\n",
    "            \"Condition\": weather_desc,\n",
    "            \"Humidity\": humidity,\n",
    "            \"DateTime\": datetime.now().strftime(\"%Y-%m-%d %H:%M:%S\")\n",
    "        }\n",
    "\n",
    "        return data\n",
    "    except Exception as e:\n",
    "        print(\"Error parsing weather data:\", e)\n",
    "        return None\n",
    "\n",
    "# User input\n",
    "city_name = input(\"Enter Indian city name (e.g., Mumbai, Delhi): \")\n",
    "weather_data = get_weather(city_name)\n",
    "\n",
    "# Save to CSV\n",
    "if weather_data:\n",
    "    df = pd.DataFrame([weather_data])\n",
    "    file_name = f\"{city_name}_weather_log.csv\"\n",
    "\n",
    "    # Append if file exists, otherwise create new\n",
    "    try:\n",
    "        existing_df = pd.read_csv(file_name)\n",
    "        updated_df = pd.concat([existing_df, df], ignore_index=True)\n",
    "    except FileNotFoundError:\n",
    "        updated_df = df\n",
    "\n",
    "    updated_df.to_csv(file_name, index=False)\n",
    "    print(f\"\\nWeather data saved to {file_name}\")\n",
    "    print(df.to_string(index=False))\n",
    "    import shutil\n",
    "shutil.move(file_name, f\"./{file_name}\")\n"
   ]
  },
  {
   "cell_type": "code",
   "execution_count": null,
   "id": "dd139b1c-ad53-4464-a336-b450ce9dea64",
   "metadata": {},
   "outputs": [],
   "source": []
  }
 ],
 "metadata": {
  "kernelspec": {
   "display_name": "Python [conda env:base] *",
   "language": "python",
   "name": "conda-base-py"
  },
  "language_info": {
   "codemirror_mode": {
    "name": "ipython",
    "version": 3
   },
   "file_extension": ".py",
   "mimetype": "text/x-python",
   "name": "python",
   "nbconvert_exporter": "python",
   "pygments_lexer": "ipython3",
   "version": "3.12.7"
  }
 },
 "nbformat": 4,
 "nbformat_minor": 5
}
